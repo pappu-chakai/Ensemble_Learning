{
  "nbformat": 4,
  "nbformat_minor": 0,
  "metadata": {
    "colab": {
      "provenance": []
    },
    "kernelspec": {
      "name": "python3",
      "display_name": "Python 3"
    },
    "language_info": {
      "name": "python"
    }
  },
  "cells": [
    {
      "cell_type": "markdown",
      "source": [
        "**THEORY**"
      ],
      "metadata": {
        "id": "qxhF-2Aib8NF"
      }
    },
    {
      "cell_type": "markdown",
      "source": [
        "Q1. What is the difference between multiple model training and single model training?\n",
        "Multiple model training involves training various models and aggregating their predictions, whereas single model training relies on just one model.Ensemble techniques leverage multiple models to enhance accuracy, reduce variance, and improve robustness compared to single model approaches.\n"
      ],
      "metadata": {
        "id": "jNjB_2SLb-Px"
      }
    },
    {
      "cell_type": "markdown",
      "source": [
        "Q2. What is the role of bootstrap sampling in Bagging?\n",
        " Bootstrap sampling generates multiple training subsets by randomly selecting data points with replacement. This allows for training different models on diverse datasets, improving robustness and reducing variance.\n"
      ],
      "metadata": {
        "id": "KMN8raWKcAvE"
      }
    },
    {
      "cell_type": "markdown",
      "source": [
        "Q3. How do you evaluate a Bagging Classifier’s performance?\n",
        " Performance of a Bagging Classifier can be evaluated using accuracy, precision, recall, F1-score, and OOB Score Accuracy measures overall correct predictions, while precision and recall help assess performance in imbalanced datasets OOB Score is a useful metric that leverages out-of-bag samples for evaluation, reducing the need for a separate validation set.\n"
      ],
      "metadata": {
        "id": "c0ttiKGCcDXZ"
      }
    },
    {
      "cell_type": "markdown",
      "source": [
        "Q4. What is OOB (Out-of-Bag) Score?\n",
        "OOB Score is an estimate of model performance calculated using the samples that were not selected in the bootstrap process.Since Bagging trains multiple models on different random subsets, some instances are left out of training and can be used for validation without needing a separate test set.\n"
      ],
      "metadata": {
        "id": "1OM38u3gcFgt"
      }
    },
    {
      "cell_type": "markdown",
      "source": [
        "Q5. Explain the key idea behind ensemble techniques.\n",
        "The key idea is to use multiple models and aggregate their predictions. By combining different models, ensemble methods reduce overfitting, improve accuracy, and make predictions more robust.These methods often rely on diverse models that complement each other, leading to better overall performance compared to individual models.\n"
      ],
      "metadata": {
        "id": "9NSaKaa8cJvt"
      }
    },
    {
      "cell_type": "markdown",
      "source": [
        "Q6. What are the main types of ensemble techniques?\n",
        "The main types include Bagging, Boosting, and Stacking.\n"
      ],
      "metadata": {
        "id": "LYUK3TmHcN0C"
      }
    },
    {
      "cell_type": "markdown",
      "source": [
        "Q7. What is ensemble learning in machine learning?\n",
        "Ensemble learning is a technique that combines multiple models to improve predictive performance and robustness.\n"
      ],
      "metadata": {
        "id": "wD3aZyW4cPxt"
      }
    },
    {
      "cell_type": "markdown",
      "source": [
        "Q8. How does a Bagging Regressor work?\n",
        "A Bagging Regressor averages predictions from multiple regression models trained on bootstrapped data samples.\n",
        " This technique reduces variance and improves stability in regression problems by preventing a single model from overly fitting to the training data.\n"
      ],
      "metadata": {
        "id": "x8APEFwscSVP"
      }
    },
    {
      "cell_type": "markdown",
      "source": [
        "Q9. What is the main challenge of ensemble methods?\n",
        " The main challenge is computational complexity, as multiple models need to be trained and combined.\n",
        "This increases training time and memory usage. Additionally, ensemble models are harder to interpret compared to simpler models like decision trees or linear regression.\n"
      ],
      "metadata": {
        "id": "Y88n2-V2cULV"
      }
    },
    {
      "cell_type": "markdown",
      "source": [
        "Q10. Why is Random Forest better than a single Decision Tree?\n",
        "Random Forest reduces overfitting by averaging multiple trees, leading to better generalization. A single decision tree may perform well on training data but overfit to noise, whereas Random Forest uses multiple trees trained on different subsets to provide a more stable prediction.\n"
      ],
      "metadata": {
        "id": "Eh5ypcGYcWCG"
      }
    },
    {
      "cell_type": "markdown",
      "source": [
        "Q11. What is the difference between Bagging and Boosting?\n",
        "Bagging trains models independently and averages their outputs, whereas Boosting trains models sequentially, focusing on misclassified examples.\n",
        " Boosting improves weak learners by assigning higher weights to misclassified instances, making the model more accurate but also prone to overfitting.\n"
      ],
      "metadata": {
        "id": "uzZAwMjjcXuS"
      }
    },
    {
      "cell_type": "markdown",
      "source": [
        "Q12. Explain the working principle of a Bagging Classifier.\n",
        "A Bagging Classifier creates multiple instances of the same model using bootstrapped data samples.Each model is trained on a different subset of data, and their predictions are aggregated (e.g., by majority voting for classification).\n",
        " This helps to improve accuracy, reduce overfitting, and make the model more robust to noise in the dataset.\n"
      ],
      "metadata": {
        "id": "WUctNFnocaxb"
      }
    },
    {
      "cell_type": "markdown",
      "source": [
        "Q13. How does Bagging help in reducing overfitting?\n",
        "Bagging reduces overfitting by training multiple models on different subsets of data and averaging their predictions.\n",
        " By training multiple weak learners on random subsets of data, Bagging increases model stability and reduces variance, leading to better generalization on unseen data.\n"
      ],
      "metadata": {
        "id": "LXBWPQWecc3l"
      }
    },
    {
      "cell_type": "markdown",
      "source": [
        "Q14. What is a Random Forest Classifier?\n",
        "A Random Forest Classifier is an ensemble of decision trees trained using Bagging and feature randomness for better accuracy.\n"
      ],
      "metadata": {
        "id": "DypmKnF7cgcQ"
      }
    },
    {
      "cell_type": "markdown",
      "source": [
        " Q15. How can you measure the importance of features in a Random Forest model?\n",
        " Feature importance can be measured using techniques like Gini Importance or Permutation Importance.\n",
        "These methods assess the impact of each feature on the model’s predictive power, helping in feature selection and model interpretability.\n"
      ],
      "metadata": {
        "id": "Izqu8BWQchHw"
      }
    },
    {
      "cell_type": "markdown",
      "source": [
        "Q16. Explain the concept of feature randomness in Random Forest.\n",
        " Random Forest selects a random subset of features at each split in a decision tree.This ensures that trees are diverse and not overly dependent on certain features, reducing overfitting and improving model generalization.\n"
      ],
      "metadata": {
        "id": "F5vaaVBhcjC_"
      }
    },
    {
      "cell_type": "markdown",
      "source": [
        "Q17. When should we avoid using ensemble methods?\n",
        "Ensemble methods should be avoided when interpretability is crucial, as they create complex models that are hard to explain.\n",
        "Additionally, if the dataset is small or computational resources are limited, simpler models may be more effective and efficient.\n"
      ],
      "metadata": {
        "id": "VKwlNDW4clH5"
      }
    },
    {
      "cell_type": "markdown",
      "source": [
        "Q18. What is the main advantage of ensemble techniques?\n",
        "The main advantage is improved accuracy and robustness by reducing variance and bias.\n"
      ],
      "metadata": {
        "id": "GyTN2cVNcoEz"
      }
    },
    {
      "cell_type": "markdown",
      "source": [
        "Q19. Can we use Bagging for regression problems?\n",
        "Yes, Bagging can be used for regression using a Bagging Regressor, which averages predictions from multiple models to improve stability and reduce variance.\n"
      ],
      "metadata": {
        "id": "_XL90l5mcqTW"
      }
    },
    {
      "cell_type": "markdown",
      "source": [
        "Q20. What are some real-world applications of ensemble techniques?\n",
        " Ensemble methods are widely used in fraud detection, medical diagnosis, recommendation systems, and image classification.These techniques improve predictive accuracy, making them useful in industries that require high reliability and precision.\n"
      ],
      "metadata": {
        "id": "VTzVX4UlcsNO"
      }
    },
    {
      "cell_type": "markdown",
      "source": [
        "**PRACTICAL**"
      ],
      "metadata": {
        "id": "NTtEggwScyKF"
      }
    },
    {
      "cell_type": "markdown",
      "source": [
        "Q21. Train a Bagging Classifier using Decision Trees on a sample dataset and print model accuracy."
      ],
      "metadata": {
        "id": "4MEEcnqbcz1Y"
      }
    },
    {
      "cell_type": "code",
      "source": [
        "from sklearn.ensemble import BaggingClassifier\n",
        "from sklearn.tree import DecisionTreeClassifier\n",
        "from sklearn.datasets import make_classification\n",
        "from sklearn.model_selection import train_test_split\n",
        "from sklearn.metrics import accuracy_score\n",
        "\n",
        "# Generate dataset\n",
        "X, y = make_classification(n_samples=500, n_features=5, random_state=42)\n",
        "\n",
        "# Split dataset\n",
        "X_train, X_test, y_train, y_test = train_test_split(X, y, test_size=0.2, random_state=42)\n",
        "\n",
        "# Train Bagging Classifier with Decision Trees\n",
        "model = BaggingClassifier(estimator=DecisionTreeClassifier(), n_estimators=10, random_state=42)\n",
        "model.fit(X_train, y_train)\n",
        "\n",
        "# Predict and evaluate\n",
        "y_pred = model.predict(X_test)\n",
        "print(\"Bagging Classifier Accuracy:\", accuracy_score(y_test, y_pred))\n",
        "\n"
      ],
      "metadata": {
        "colab": {
          "base_uri": "https://localhost:8080/"
        },
        "id": "Au03DQkYc2KH",
        "outputId": "147b99f2-b2cb-40cb-f249-9bf4f3bee580"
      },
      "execution_count": 1,
      "outputs": [
        {
          "output_type": "stream",
          "name": "stdout",
          "text": [
            "Bagging Classifier Accuracy: 0.95\n"
          ]
        }
      ]
    },
    {
      "cell_type": "markdown",
      "source": [
        "Q22. Train a Bagging Regressor using Decision Trees and evaluate using Mean Squared Error (MSE)."
      ],
      "metadata": {
        "id": "syMKMjN0c-XM"
      }
    },
    {
      "cell_type": "code",
      "source": [
        "from sklearn.ensemble import BaggingRegressor\n",
        "from sklearn.tree import DecisionTreeRegressor\n",
        "from sklearn.datasets import make_regression\n",
        "from sklearn.model_selection import train_test_split\n",
        "from sklearn.metrics import mean_squared_error\n",
        "\n",
        "# Generate dataset\n",
        "X, y = make_regression(n_samples=500, n_features=4, noise=0.1, random_state=42)\n",
        "\n",
        "# Split dataset\n",
        "X_train, X_test, y_train, y_test = train_test_split(X, y, test_size=0.2, random_state=42)\n",
        "\n",
        "# Train Bagging Regressor\n",
        "model = BaggingRegressor(estimator=DecisionTreeRegressor(), n_estimators=15, random_state=42)\n",
        "model.fit(X_train, y_train)\n",
        "\n",
        "# Predict and evaluate\n",
        "y_pred = model.predict(X_test)\n",
        "print(\"Bagging Regressor MSE:\", mean_squared_error(y_test, y_pred))\n"
      ],
      "metadata": {
        "colab": {
          "base_uri": "https://localhost:8080/"
        },
        "id": "VF_u_9TRdASt",
        "outputId": "f4d0ca07-00f8-4efc-90a0-713aed2d9f73"
      },
      "execution_count": 2,
      "outputs": [
        {
          "output_type": "stream",
          "name": "stdout",
          "text": [
            "Bagging Regressor MSE: 190.28937726305065\n"
          ]
        }
      ]
    },
    {
      "cell_type": "markdown",
      "source": [
        "Q23. Train a Random Forest Classifier on the Breast Cancer dataset and print feature importance scores."
      ],
      "metadata": {
        "id": "ipxpR9HndEsc"
      }
    },
    {
      "cell_type": "code",
      "source": [
        "from sklearn.ensemble import RandomForestClassifier\n",
        "from sklearn.datasets import load_breast_cancer\n",
        "from sklearn.model_selection import train_test_split\n",
        "\n",
        "# Load dataset\n",
        "data = load_breast_cancer()\n",
        "X, y = data.data, data.target\n",
        "\n",
        "# Split dataset\n",
        "X_train, X_test, y_train, y_test = train_test_split(X, y, test_size=0.2, random_state=42)\n",
        "\n",
        "# Train Random Forest Classifier\n",
        "model = RandomForestClassifier(n_estimators=20, random_state=42)\n",
        "model.fit(X_train, y_train)\n",
        "\n",
        "# Print feature importance\n",
        "print(\"Feature Importances:\", model.feature_importances_)\n"
      ],
      "metadata": {
        "colab": {
          "base_uri": "https://localhost:8080/"
        },
        "id": "5nLRa63CdGki",
        "outputId": "f1a790aa-3426-422b-bb63-8be570594f92"
      },
      "execution_count": 3,
      "outputs": [
        {
          "output_type": "stream",
          "name": "stdout",
          "text": [
            "Feature Importances: [0.09389798 0.01877596 0.03209534 0.0353801  0.0085131  0.02477505\n",
            " 0.06971444 0.12637211 0.00547855 0.00354851 0.03643317 0.0072133\n",
            " 0.00774274 0.0660334  0.00356888 0.0034282  0.01114746 0.00448966\n",
            " 0.00460848 0.00688001 0.05943534 0.01430702 0.07393636 0.07405907\n",
            " 0.00344462 0.03205183 0.01789973 0.14169879 0.00807492 0.00499585]\n"
          ]
        }
      ]
    },
    {
      "cell_type": "markdown",
      "source": [
        "Q24. Train a Random Forest Regressor and compare its performance with a single Decision Tree."
      ],
      "metadata": {
        "id": "btz72FBddJ4a"
      }
    },
    {
      "cell_type": "code",
      "source": [
        "from sklearn.ensemble import RandomForestRegressor\n",
        "from sklearn.tree import DecisionTreeRegressor\n",
        "from sklearn.datasets import make_regression\n",
        "from sklearn.model_selection import train_test_split\n",
        "from sklearn.metrics import r2_score\n",
        "\n",
        "# Generate dataset\n",
        "X, y = make_regression(n_samples=300, n_features=6, noise=0.2, random_state=42)\n",
        "\n",
        "# Split dataset\n",
        "X_train, X_test, y_train, y_test = train_test_split(X, y, test_size=0.2, random_state=42)\n",
        "\n",
        "# Train Decision Tree Regressor\n",
        "dt_model = DecisionTreeRegressor(random_state=42)\n",
        "dt_model.fit(X_train, y_train)\n",
        "dt_pred = dt_model.predict(X_test)\n",
        "\n",
        "# Train Random Forest Regressor\n",
        "rf_model = RandomForestRegressor(n_estimators=15, random_state=42)\n",
        "rf_model.fit(X_train, y_train)\n",
        "rf_pred = rf_model.predict(X_test)\n",
        "\n",
        "# Compare R-squared scores\n",
        "print(\"Decision Tree R2 Score:\", r2_score(y_test, dt_pred))\n",
        "print(\"Random Forest R2 Score:\", r2_score(y_test, rf_pred))\n"
      ],
      "metadata": {
        "colab": {
          "base_uri": "https://localhost:8080/"
        },
        "id": "v6pB_dpTdLzC",
        "outputId": "78ce389a-2a13-448e-9775-81775386eee1"
      },
      "execution_count": 4,
      "outputs": [
        {
          "output_type": "stream",
          "name": "stdout",
          "text": [
            "Decision Tree R2 Score: 0.6870379024847741\n",
            "Random Forest R2 Score: 0.8664631475261791\n"
          ]
        }
      ]
    },
    {
      "cell_type": "markdown",
      "source": [
        "Q25. Compute the Out-of-Bag (OOB) Score for a Random Forest Classifier."
      ],
      "metadata": {
        "id": "Mh4VtDZrdOy4"
      }
    },
    {
      "cell_type": "code",
      "source": [
        "from sklearn.ensemble import RandomForestClassifier\n",
        "from sklearn.datasets import make_classification\n",
        "\n",
        "# Generate dataset\n",
        "X, y = make_classification(n_samples=400, n_features=5, random_state=42)\n",
        "\n",
        "# Train Random Forest with OOB Score enabled\n",
        "model = RandomForestClassifier(n_estimators=15, oob_score=True, random_state=42)\n",
        "model.fit(X, y)\n",
        "\n",
        "# Print OOB Score\n",
        "print(\"OOB Score:\", model.oob_score_)\n"
      ],
      "metadata": {
        "colab": {
          "base_uri": "https://localhost:8080/"
        },
        "id": "uAyr-XHDdQpP",
        "outputId": "69fe80d8-5092-44f1-b9f5-0768b58a9aab"
      },
      "execution_count": 5,
      "outputs": [
        {
          "output_type": "stream",
          "name": "stdout",
          "text": [
            "OOB Score: 0.9225\n"
          ]
        }
      ]
    },
    {
      "cell_type": "markdown",
      "source": [
        "Q26. Train a Bagging Classifier using SVM as a base estimator and print accuracy."
      ],
      "metadata": {
        "id": "n7ZgSDKSdTa-"
      }
    },
    {
      "cell_type": "code",
      "source": [
        "from sklearn.ensemble import BaggingClassifier\n",
        "from sklearn.svm import SVC\n",
        "from sklearn.datasets import make_classification\n",
        "from sklearn.model_selection import train_test_split\n",
        "from sklearn.metrics import accuracy_score\n",
        "\n",
        "# Generate dataset\n",
        "X, y = make_classification(n_samples=500, n_features=4, random_state=42)\n",
        "\n",
        "# Split dataset\n",
        "X_train, X_test, y_train, y_test = train_test_split(X, y, test_size=0.2, random_state=42)\n",
        "\n",
        "# Train Bagging Classifier with SVM\n",
        "model = BaggingClassifier(estimator=SVC(), n_estimators=10, random_state=42)\n",
        "model.fit(X_train, y_train)\n",
        "\n",
        "# Predict and evaluate\n",
        "y_pred = model.predict(X_test)\n",
        "print(\"Bagging Classifier (SVM) Accuracy:\", accuracy_score(y_test, y_pred))\n"
      ],
      "metadata": {
        "colab": {
          "base_uri": "https://localhost:8080/"
        },
        "id": "mTiWJJpYdVEt",
        "outputId": "d339dae7-38d2-4190-8232-62709e7f8f84"
      },
      "execution_count": 6,
      "outputs": [
        {
          "output_type": "stream",
          "name": "stdout",
          "text": [
            "Bagging Classifier (SVM) Accuracy: 0.92\n"
          ]
        }
      ]
    },
    {
      "cell_type": "markdown",
      "source": [
        "Q27. Train a Random Forest Classifier with different numbers of trees and compare accuracy."
      ],
      "metadata": {
        "id": "fH2TTccKdX5O"
      }
    },
    {
      "cell_type": "code",
      "source": [
        "from sklearn.ensemble import RandomForestClassifier\n",
        "from sklearn.datasets import make_classification\n",
        "from sklearn.model_selection import train_test_split\n",
        "from sklearn.metrics import accuracy_score\n",
        "\n",
        "# Generate dataset\n",
        "X, y = make_classification(n_samples=500, n_features=5, random_state=42)\n",
        "\n",
        "# Split dataset\n",
        "X_train, X_test, y_train, y_test = train_test_split(X, y, test_size=0.2, random_state=42)\n",
        "\n",
        "# Train Random Forest with different numbers of trees\n",
        "for n_trees in [5, 10, 50, 100]:\n",
        "    model = RandomForestClassifier(n_estimators=n_trees, random_state=42)\n",
        "    model.fit(X_train, y_train)\n",
        "    y_pred = model.predict(X_test)\n",
        "    print(f\"Accuracy with {n_trees} trees:\", accuracy_score(y_test, y_pred))\n"
      ],
      "metadata": {
        "colab": {
          "base_uri": "https://localhost:8080/"
        },
        "id": "1FLItGEadZ9N",
        "outputId": "01090e07-57ea-48c3-c9ff-0b413f02d7d9"
      },
      "execution_count": 7,
      "outputs": [
        {
          "output_type": "stream",
          "name": "stdout",
          "text": [
            "Accuracy with 5 trees: 0.95\n",
            "Accuracy with 10 trees: 0.94\n",
            "Accuracy with 50 trees: 0.96\n",
            "Accuracy with 100 trees: 0.96\n"
          ]
        }
      ]
    },
    {
      "cell_type": "markdown",
      "source": [
        "Q28. Train a Bagging Classifier using Logistic Regression as a base estimator and print AUC score."
      ],
      "metadata": {
        "id": "yqi1onimdltQ"
      }
    },
    {
      "cell_type": "code",
      "source": [
        "from sklearn.ensemble import BaggingClassifier\n",
        "from sklearn.linear_model import LogisticRegression\n",
        "from sklearn.datasets import make_classification\n",
        "from sklearn.model_selection import train_test_split\n",
        "from sklearn.metrics import roc_auc_score\n",
        "\n",
        "# Generate dataset\n",
        "X, y = make_classification(n_samples=600, n_features=4, random_state=42)\n",
        "\n",
        "# Split dataset\n",
        "X_train, X_test, y_train, y_test = train_test_split(X, y, test_size=0.2, random_state=42)\n",
        "\n",
        "# Train Bagging Classifier with Logistic Regression\n",
        "model = BaggingClassifier(estimator=LogisticRegression(), n_estimators=10, random_state=42)\n",
        "model.fit(X_train, y_train)\n",
        "\n",
        "# Predict and evaluate using AUC\n",
        "y_prob = model.predict_proba(X_test)[:, 1]\n",
        "print(\"AUC Score:\", roc_auc_score(y_test, y_prob))\n"
      ],
      "metadata": {
        "colab": {
          "base_uri": "https://localhost:8080/"
        },
        "id": "x5tPxUXmdmeE",
        "outputId": "66d0bb14-c30f-474e-99f5-0b233eb650fa"
      },
      "execution_count": 8,
      "outputs": [
        {
          "output_type": "stream",
          "name": "stdout",
          "text": [
            "AUC Score: 0.961352657004831\n"
          ]
        }
      ]
    },
    {
      "cell_type": "markdown",
      "source": [
        "Q29. Train a Random Forest Regressor and analyze feature importance scores"
      ],
      "metadata": {
        "id": "P6zHkYLIdq5O"
      }
    },
    {
      "cell_type": "code",
      "source": [
        "from sklearn.ensemble import RandomForestRegressor\n",
        "from sklearn.datasets import make_regression\n",
        "from sklearn.model_selection import train_test_split\n",
        "\n",
        "# Generate dataset\n",
        "X, y = make_regression(n_samples=400, n_features=6, noise=0.3, random_state=42)\n",
        "\n",
        "# Split dataset\n",
        "X_train, X_test, y_train, y_test = train_test_split(X, y, test_size=0.2, random_state=42)\n",
        "\n",
        "# Train Random Forest Regressor\n",
        "model = RandomForestRegressor(n_estimators=20, random_state=42)\n",
        "model.fit(X_train, y_train)\n",
        "\n",
        "# Print feature importance\n",
        "print(\"Feature Importances:\", model.feature_importances_)\n"
      ],
      "metadata": {
        "colab": {
          "base_uri": "https://localhost:8080/"
        },
        "id": "g0nK09KCdtPa",
        "outputId": "3b209e51-dcad-48f6-e565-5e5ba6f0b50e"
      },
      "execution_count": 9,
      "outputs": [
        {
          "output_type": "stream",
          "name": "stdout",
          "text": [
            "Feature Importances: [0.2462535  0.01016018 0.05553606 0.67049721 0.00889836 0.00865468]\n"
          ]
        }
      ]
    },
    {
      "cell_type": "markdown",
      "source": [
        "Q30. Train an ensemble model using both Bagging and Random Forest and compare accuracy."
      ],
      "metadata": {
        "id": "IEVhg3iXdwMU"
      }
    },
    {
      "cell_type": "code",
      "source": [
        "from sklearn.ensemble import BaggingClassifier, RandomForestClassifier\n",
        "from sklearn.tree import DecisionTreeClassifier\n",
        "from sklearn.datasets import make_classification\n",
        "from sklearn.model_selection import train_test_split\n",
        "from sklearn.metrics import accuracy_score\n",
        "\n",
        "# Generate dataset\n",
        "X, y = make_classification(n_samples=500, n_features=5, random_state=42)\n",
        "\n",
        "# Split dataset\n",
        "X_train, X_test, y_train, y_test = train_test_split(X, y, test_size=0.2, random_state=42)\n",
        "\n",
        "# Train Bagging Classifier with Decision Trees\n",
        "bagging_model = BaggingClassifier(estimator=DecisionTreeClassifier(), n_estimators=10, random_state=42)\n",
        "bagging_model.fit(X_train, y_train)\n",
        "\n",
        "# Train Random Forest Classifier\n",
        "rf_model = RandomForestClassifier(n_estimators=10, random_state=42)\n",
        "rf_model.fit(X_train, y_train)\n",
        "\n",
        "# Evaluate models\n",
        "bagging_acc = accuracy_score(y_test, bagging_model.predict(X_test))\n",
        "rf_acc = accuracy_score(y_test, rf_model.predict(X_test))\n",
        "\n",
        "print(\"Bagging Classifier Accuracy:\", bagging_acc)\n",
        "print(\"Random Forest Classifier Accuracy:\", rf_acc)\n"
      ],
      "metadata": {
        "colab": {
          "base_uri": "https://localhost:8080/"
        },
        "id": "x6upfo_idySN",
        "outputId": "42fcff3c-1514-4a91-aefc-04846c6e0475"
      },
      "execution_count": 10,
      "outputs": [
        {
          "output_type": "stream",
          "name": "stdout",
          "text": [
            "Bagging Classifier Accuracy: 0.95\n",
            "Random Forest Classifier Accuracy: 0.94\n"
          ]
        }
      ]
    },
    {
      "cell_type": "markdown",
      "source": [
        "Q31. Train a Random Forest Classifier and tune hyperparameters using GridSearchCV."
      ],
      "metadata": {
        "id": "BB7DoN4hd1kj"
      }
    },
    {
      "cell_type": "code",
      "source": [
        "from sklearn.ensemble import RandomForestClassifier\n",
        "from sklearn.datasets import make_classification\n",
        "from sklearn.model_selection import train_test_split, GridSearchCV\n",
        "\n",
        "# Generate dataset\n",
        "X, y = make_classification(n_samples=500, n_features=6, random_state=42)\n",
        "\n",
        "# Split dataset\n",
        "X_train, X_test, y_train, y_test = train_test_split(X, y, test_size=0.2, random_state=42)\n",
        "\n",
        "# Define parameter grid\n",
        "param_grid = {\n",
        "    'n_estimators': [10, 50, 100],\n",
        "    'max_depth': [None, 5, 10]\n",
        "}\n",
        "\n",
        "# Train model with GridSearchCV\n",
        "model = GridSearchCV(RandomForestClassifier(), param_grid, cv=3)\n",
        "model.fit(X_train, y_train)\n",
        "\n",
        "# Print best parameters\n",
        "print(\"Best Parameters:\", model.best_params_)\n"
      ],
      "metadata": {
        "colab": {
          "base_uri": "https://localhost:8080/"
        },
        "id": "V7fommqfd3ie",
        "outputId": "88b0cdf6-5d90-4bce-b921-a7e03d2e63f0"
      },
      "execution_count": 11,
      "outputs": [
        {
          "output_type": "stream",
          "name": "stdout",
          "text": [
            "Best Parameters: {'max_depth': 5, 'n_estimators': 100}\n"
          ]
        }
      ]
    },
    {
      "cell_type": "markdown",
      "source": [
        "Q32. Train a Bagging Regressor with different numbers of base estimators and compare performance."
      ],
      "metadata": {
        "id": "5JjbSym4d7Fe"
      }
    },
    {
      "cell_type": "code",
      "source": [
        "from sklearn.ensemble import RandomForestClassifier\n",
        "from sklearn.datasets import make_classification\n",
        "from sklearn.model_selection import train_test_split, GridSearchCV\n",
        "\n",
        "# Generate dataset\n",
        "X, y = make_classification(n_samples=500, n_features=6, random_state=42)\n",
        "\n",
        "# Split dataset\n",
        "X_train, X_test, y_train, y_test = train_test_split(X, y, test_size=0.2, random_state=42)\n",
        "\n",
        "# Define parameter grid\n",
        "param_grid = {\n",
        "    'n_estimators': [10, 50, 100],\n",
        "    'max_depth': [None, 5, 10]\n",
        "}\n",
        "\n",
        "# Train model with GridSearchCV\n",
        "model = GridSearchCV(RandomForestClassifier(), param_grid, cv=3)\n",
        "model.fit(X_train, y_train)\n",
        "\n",
        "# Print best parameters\n",
        "print(\"Best Parameters:\", model.best_params_)\n"
      ],
      "metadata": {
        "colab": {
          "base_uri": "https://localhost:8080/"
        },
        "id": "cs2YEOCHd9nH",
        "outputId": "a75001e1-7405-4e42-bee5-9207cafa5b10"
      },
      "execution_count": 12,
      "outputs": [
        {
          "output_type": "stream",
          "name": "stdout",
          "text": [
            "Best Parameters: {'max_depth': 10, 'n_estimators': 100}\n"
          ]
        }
      ]
    },
    {
      "cell_type": "markdown",
      "source": [
        "Q33. Train a Random Forest Classifier and analyze misclassified samples."
      ],
      "metadata": {
        "id": "xz7LmDgQeBc1"
      }
    },
    {
      "cell_type": "code",
      "source": [
        "from sklearn.ensemble import RandomForestClassifier\n",
        "from sklearn.datasets import make_classification\n",
        "from sklearn.model_selection import train_test_split\n",
        "import numpy as np\n",
        "\n",
        "# Generate dataset\n",
        "X, y = make_classification(n_samples=500, n_features=5, random_state=42)\n",
        "\n",
        "# Split dataset\n",
        "X_train, X_test, y_train, y_test = train_test_split(X, y, test_size=0.2, random_state=42)\n",
        "\n",
        "# Train Random Forest Classifier\n",
        "model = RandomForestClassifier(n_estimators=20, random_state=42)\n",
        "model.fit(X_train, y_train)\n",
        "\n",
        "# Identify misclassified samples\n",
        "misclassified = np.where(y_test != model.predict(X_test))\n",
        "print(\"Misclassified Sample Indices:\", misclassified[0])\n"
      ],
      "metadata": {
        "colab": {
          "base_uri": "https://localhost:8080/"
        },
        "id": "BHXlOdCdeDOZ",
        "outputId": "c41d19a9-cf16-426f-9bba-123c9fb1cd34"
      },
      "execution_count": 13,
      "outputs": [
        {
          "output_type": "stream",
          "name": "stdout",
          "text": [
            "Misclassified Sample Indices: [ 2 11 49 72 90]\n"
          ]
        }
      ]
    },
    {
      "cell_type": "markdown",
      "source": [
        "Q34. Train a Bagging Classifier and compare its performance with a single Decision Tree Classifier."
      ],
      "metadata": {
        "id": "XiuGjq5qeFf7"
      }
    },
    {
      "cell_type": "code",
      "source": [
        "from sklearn.ensemble import BaggingClassifier\n",
        "from sklearn.tree import DecisionTreeClassifier\n",
        "from sklearn.datasets import make_classification\n",
        "from sklearn.model_selection import train_test_split\n",
        "from sklearn.metrics import accuracy_score\n",
        "\n",
        "# Generate dataset\n",
        "X, y = make_classification(n_samples=400, n_features=6, random_state=42)\n",
        "\n",
        "# Split dataset\n",
        "X_train, X_test, y_train, y_test = train_test_split(X, y, test_size=0.2, random_state=42)\n",
        "\n",
        "# Train Single Decision Tree\n",
        "dt_model = DecisionTreeClassifier(random_state=42)\n",
        "dt_model.fit(X_train, y_train)\n",
        "dt_acc = accuracy_score(y_test, dt_model.predict(X_test))\n",
        "\n",
        "# Train Bagging Classifier\n",
        "bagging_model = BaggingClassifier(estimator=DecisionTreeClassifier(), n_estimators=10, random_state=42)\n",
        "bagging_model.fit(X_train, y_train)\n",
        "bagging_acc = accuracy_score(y_test, bagging_model.predict(X_test))\n",
        "\n",
        "print(\"Decision Tree Accuracy:\", dt_acc)\n",
        "print(\"Bagging Classifier Accuracy:\", bagging_acc)\n"
      ],
      "metadata": {
        "colab": {
          "base_uri": "https://localhost:8080/"
        },
        "id": "LgxGAnZceHYf",
        "outputId": "a29eef8b-b8b1-468d-b36c-8619aaa6f054"
      },
      "execution_count": 14,
      "outputs": [
        {
          "output_type": "stream",
          "name": "stdout",
          "text": [
            "Decision Tree Accuracy: 0.9375\n",
            "Bagging Classifier Accuracy: 0.975\n"
          ]
        }
      ]
    },
    {
      "cell_type": "markdown",
      "source": [
        "Q35. Train a Random Forest Classifier and visualize the confusion matrix."
      ],
      "metadata": {
        "id": "tltHv8GdeKGT"
      }
    },
    {
      "cell_type": "code",
      "source": [
        "import seaborn as sns\n",
        "import matplotlib.pyplot as plt\n",
        "from sklearn.ensemble import RandomForestClassifier\n",
        "from sklearn.datasets import make_classification\n",
        "from sklearn.model_selection import train_test_split\n",
        "from sklearn.metrics import confusion_matrix\n",
        "\n",
        "# Generate dataset\n",
        "X, y = make_classification(n_samples=500, n_features=5, random_state=42)\n",
        "\n",
        "# Split dataset\n",
        "X_train, X_test, y_train, y_test = train_test_split(X, y, test_size=0.2, random_state=42)\n",
        "\n",
        "# Train Random Forest Classifier\n",
        "model = RandomForestClassifier(n_estimators=20, random_state=42)\n",
        "model.fit(X_train, y_train)\n",
        "\n",
        "# Compute confusion matrix\n",
        "y_pred = model.predict(X_test)\n",
        "cm = confusion_matrix(y_test, y_pred)\n",
        "\n",
        "# Plot confusion matrix\n",
        "sns.heatmap(cm, annot=True, fmt=\"d\", cmap=\"Blues\")\n",
        "plt.xlabel(\"Predicted Label\")\n",
        "plt.ylabel(\"True Label\")\n",
        "plt.title(\"Confusion Matrix - Random Forest\")\n",
        "plt.show()\n"
      ],
      "metadata": {
        "colab": {
          "base_uri": "https://localhost:8080/",
          "height": 472
        },
        "id": "gLHS2JfFeL99",
        "outputId": "0afce616-9de9-4243-9475-3b898cbbdf12"
      },
      "execution_count": 15,
      "outputs": [
        {
          "output_type": "display_data",
          "data": {
            "text/plain": [
              "<Figure size 640x480 with 2 Axes>"
            ],
            "image/png": "[encoded data removed]"
          },
          "metadata": {}
        }
      ]
    },
    {
      "cell_type": "markdown",
      "source": [
        "Q36. Train a Stacking Classifier using Decision Trees, SVM, and Logistic Regression, and compare accuracy."
      ],
      "metadata": {
        "id": "rRH9vtDFeOzs"
      }
    },
    {
      "cell_type": "code",
      "source": [
        "from sklearn.ensemble import StackingClassifier\n",
        "from sklearn.linear_model import LogisticRegression\n",
        "from sklearn.svm import SVC\n",
        "from sklearn.tree import DecisionTreeClassifier\n",
        "from sklearn.datasets import make_classification\n",
        "from sklearn.model_selection import train_test_split\n",
        "from sklearn.metrics import accuracy_score\n",
        "\n",
        "# Generate dataset\n",
        "X, y = make_classification(n_samples=500, n_features=5, random_state=42)\n",
        "\n",
        "# Split dataset\n",
        "X_train, X_test, y_train, y_test = train_test_split(X, y, test_size=0.2, random_state=42)\n",
        "\n",
        "# Define base models\n",
        "base_models = [\n",
        "    ('dt', DecisionTreeClassifier()),\n",
        "    ('svm', SVC(probability=True))\n",
        "]\n",
        "\n",
        "# Define stacking model\n",
        "stacking_model = StackingClassifier(estimators=base_models, final_estimator=LogisticRegression())\n",
        "stacking_model.fit(X_train, y_train)\n",
        "\n",
        "# Predict and evaluate\n",
        "y_pred = stacking_model.predict(X_test)\n",
        "print(\"Stacking Classifier Accuracy:\", accuracy_score(y_test, y_pred))\n"
      ],
      "metadata": {
        "colab": {
          "base_uri": "https://localhost:8080/"
        },
        "id": "FatGDw5feRKx",
        "outputId": "f50745ce-7621-4d41-8298-49cab24b4bb7"
      },
      "execution_count": 16,
      "outputs": [
        {
          "output_type": "stream",
          "name": "stdout",
          "text": [
            "Stacking Classifier Accuracy: 0.94\n"
          ]
        }
      ]
    },
    {
      "cell_type": "markdown",
      "source": [
        "Q37. Train a Random Forest Classifier and print the top 5 most important features."
      ],
      "metadata": {
        "id": "rPacg4mVeTjC"
      }
    },
    {
      "cell_type": "code",
      "source": [
        "from sklearn.ensemble import RandomForestClassifier\n",
        "from sklearn.datasets import load_wine\n",
        "from sklearn.model_selection import train_test_split\n",
        "\n",
        "# Load dataset\n",
        "data = load_wine()\n",
        "X, y = data.data, data.target\n",
        "feature_names = data.feature_names\n",
        "\n",
        "# Split dataset\n",
        "X_train, X_test, y_train, y_test = train_test_split(X, y, test_size=0.2, random_state=42)\n",
        "\n",
        "# Train Random Forest Classifier\n",
        "model = RandomForestClassifier(n_estimators=30, random_state=42)\n",
        "model.fit(X_train, y_train)\n",
        "\n",
        "# Print top 5 important features\n",
        "feature_importance = sorted(zip(feature_names, model.feature_importances_), key=lambda x: x[1], reverse=True)\n",
        "print(\"Top 5 Important Features:\", feature_importance[:5])\n"
      ],
      "metadata": {
        "colab": {
          "base_uri": "https://localhost:8080/"
        },
        "id": "NvG8uwI-eVVS",
        "outputId": "b5f682bc-386f-4aad-97d5-22a19742e33f"
      },
      "execution_count": 17,
      "outputs": [
        {
          "output_type": "stream",
          "name": "stdout",
          "text": [
            "Top 5 Important Features: [('flavanoids', np.float64(0.23879579217160415)), ('color_intensity', np.float64(0.14498623162385882)), ('od280/od315_of_diluted_wines', np.float64(0.11900812539978446)), ('alcohol', np.float64(0.09290190568038877)), ('hue', np.float64(0.09092352236249875))]\n"
          ]
        }
      ]
    },
    {
      "cell_type": "markdown",
      "source": [
        "Q38. Train a Bagging Classifier and evaluate performance using Precision, Recall, and F1-score."
      ],
      "metadata": {
        "id": "aXBEKJDDeYBq"
      }
    },
    {
      "cell_type": "code",
      "source": [
        "from sklearn.ensemble import BaggingClassifier\n",
        "from sklearn.tree import DecisionTreeClassifier\n",
        "from sklearn.datasets import make_classification\n",
        "from sklearn.model_selection import train_test_split\n",
        "from sklearn.metrics import precision_score, recall_score, f1_score\n",
        "\n",
        "# Generate dataset\n",
        "X, y = make_classification(n_samples=500, n_features=4, random_state=42)\n",
        "\n",
        "# Split dataset\n",
        "X_train, X_test, y_train, y_test = train_test_split(X, y, test_size=0.2, random_state=42)\n",
        "\n",
        "# Train Bagging Classifier\n",
        "model = BaggingClassifier(estimator=DecisionTreeClassifier(), n_estimators=10, random_state=42)\n",
        "model.fit(X_train, y_train)\n",
        "\n",
        "# Predict and evaluate\n",
        "y_pred = model.predict(X_test)\n",
        "print(\"Precision:\", precision_score(y_test, y_pred, average='macro'))\n",
        "print(\"Recall:\", recall_score(y_test, y_pred, average='macro'))\n",
        "print(\"F1-Score:\", f1_score(y_test, y_pred, average='macro'))\n"
      ],
      "metadata": {
        "colab": {
          "base_uri": "https://localhost:8080/"
        },
        "id": "H2j83umGeZ8t",
        "outputId": "1ab0be53-7174-45ca-cae3-62a75eaa99f1"
      },
      "execution_count": 18,
      "outputs": [
        {
          "output_type": "stream",
          "name": "stdout",
          "text": [
            "Precision: 0.9291449217181855\n",
            "Recall: 0.9303542673107891\n",
            "F1-Score: 0.9296553110240177\n"
          ]
        }
      ]
    },
    {
      "cell_type": "markdown",
      "source": [
        "Q39. Train a Random Forest Classifier and analyze the effect of max_depth on accuracy."
      ],
      "metadata": {
        "id": "L2G0m580ecTM"
      }
    },
    {
      "cell_type": "code",
      "source": [
        "from sklearn.ensemble import RandomForestClassifier\n",
        "from sklearn.datasets import make_classification\n",
        "from sklearn.model_selection import train_test_split\n",
        "from sklearn.metrics import accuracy_score\n",
        "\n",
        "# Generate dataset\n",
        "X, y = make_classification(n_samples=400, n_features=6, random_state=42)\n",
        "\n",
        "# Split dataset\n",
        "X_train, X_test, y_train, y_test = train_test_split(X, y, test_size=0.2, random_state=42)\n",
        "\n",
        "# Train Random Forest Classifier with different max_depth values\n",
        "for depth in [None, 5, 10, 20]:\n",
        "    model = RandomForestClassifier(n_estimators=20, max_depth=depth, random_state=42)\n",
        "    model.fit(X_train, y_train)\n",
        "    y_pred = model.predict(X_test)\n",
        "    print(f\"Accuracy with max_depth={depth}:\", accuracy_score(y_test, y_pred))\n"
      ],
      "metadata": {
        "colab": {
          "base_uri": "https://localhost:8080/"
        },
        "id": "43729Paoedyz",
        "outputId": "bb5ff196-9b10-4a7f-bf40-2007f2f5a3e5"
      },
      "execution_count": 19,
      "outputs": [
        {
          "output_type": "stream",
          "name": "stdout",
          "text": [
            "Accuracy with max_depth=None: 0.9625\n",
            "Accuracy with max_depth=5: 0.9625\n",
            "Accuracy with max_depth=10: 0.9625\n",
            "Accuracy with max_depth=20: 0.9625\n"
          ]
        }
      ]
    },
    {
      "cell_type": "markdown",
      "source": [
        "Q40. Train a Bagging Regressor using different base estimators (DecisionTree and KNeighbors) and compare performance."
      ],
      "metadata": {
        "id": "jlkExTtregSf"
      }
    },
    {
      "cell_type": "code",
      "source": [
        "from sklearn.ensemble import BaggingRegressor\n",
        "from sklearn.tree import DecisionTreeRegressor\n",
        "from sklearn.neighbors import KNeighborsRegressor\n",
        "from sklearn.datasets import make_regression\n",
        "from sklearn.model_selection import train_test_split\n",
        "from sklearn.metrics import mean_absolute_error\n",
        "\n",
        "# Generate dataset\n",
        "X, y = make_regression(n_samples=400, n_features=5, noise=0.4, random_state=42)\n",
        "\n",
        "# Split dataset\n",
        "X_train, X_test, y_train, y_test = train_test_split(X, y, test_size=0.2, random_state=42)\n",
        "\n",
        "# Train and compare two Bagging Regressors\n",
        "models = {\n",
        "    \"DecisionTree\": BaggingRegressor(estimator=DecisionTreeRegressor(), n_estimators=10, random_state=42),\n",
        "    \"KNeighbors\": BaggingRegressor(estimator=KNeighborsRegressor(), n_estimators=10, random_state=42)\n",
        "}\n",
        "\n",
        "for name, model in models.items():\n",
        "    model.fit(X_train, y_train)\n",
        "    y_pred = model.predict(X_test)\n",
        "    print(f\"MAE for {name}:\", mean_absolute_error(y_test, y_pred))\n"
      ],
      "metadata": {
        "colab": {
          "base_uri": "https://localhost:8080/"
        },
        "id": "95tosgNVeiI1",
        "outputId": "d1636651-f00d-4ba9-f08b-cb9488f9aba4"
      },
      "execution_count": 20,
      "outputs": [
        {
          "output_type": "stream",
          "name": "stdout",
          "text": [
            "MAE for DecisionTree: 20.313150999663247\n",
            "MAE for KNeighbors: 23.55133904480849\n"
          ]
        }
      ]
    },
    {
      "cell_type": "markdown",
      "source": [
        "Q41. Train a Random Forest Classifier and evaluate its performance using ROC-AUC Score."
      ],
      "metadata": {
        "id": "LJSaOuLyelbQ"
      }
    },
    {
      "cell_type": "code",
      "source": [
        "from sklearn.ensemble import RandomForestClassifier\n",
        "from sklearn.datasets import make_classification\n",
        "from sklearn.model_selection import train_test_split\n",
        "from sklearn.metrics import roc_auc_score\n",
        "\n",
        "# Generate dataset\n",
        "X, y = make_classification(n_samples=500, n_features=6, random_state=42)\n",
        "\n",
        "# Split dataset\n",
        "X_train, X_test, y_train, y_test = train_test_split(X, y, test_size=0.2, random_state=42)\n",
        "\n",
        "# Train Random Forest Classifier\n",
        "model = RandomForestClassifier(n_estimators=20, random_state=42)\n",
        "model.fit(X_train, y_train)\n",
        "\n",
        "# Predict probabilities\n",
        "y_prob = model.predict_proba(X_test)[:, 1]\n",
        "\n",
        "# Compute ROC-AUC Score\n",
        "print(\"ROC-AUC Score:\", roc_auc_score(y_test, y_prob))\n"
      ],
      "metadata": {
        "colab": {
          "base_uri": "https://localhost:8080/"
        },
        "id": "jYXd5zg7em82",
        "outputId": "8acd1f8f-830f-4cce-ffa3-e7961bdadc52"
      },
      "execution_count": 21,
      "outputs": [
        {
          "output_type": "stream",
          "name": "stdout",
          "text": [
            "ROC-AUC Score: 0.9849033816425121\n"
          ]
        }
      ]
    },
    {
      "cell_type": "markdown",
      "source": [
        "Q42. Train a Bagging Classifier and evaluate its performance using cross-validation."
      ],
      "metadata": {
        "id": "C6nJ5sDXepoH"
      }
    },
    {
      "cell_type": "code",
      "source": [
        "from sklearn.ensemble import BaggingClassifier\n",
        "from sklearn.tree import DecisionTreeClassifier\n",
        "from sklearn.datasets import make_classification\n",
        "from sklearn.model_selection import cross_val_score\n",
        "\n",
        "# Generate dataset\n",
        "X, y = make_classification(n_samples=500, n_features=6, random_state=42)\n",
        "\n",
        "# Train Bagging Classifier\n",
        "model = BaggingClassifier(estimator=DecisionTreeClassifier(), n_estimators=10, random_state=42)\n",
        "\n",
        "# Compute cross-validation scores\n",
        "scores = cross_val_score(model, X, y, cv=5)\n",
        "print(\"Cross-Validation Scores:\", scores)\n",
        "print(\"Average Accuracy:\", scores.mean())\n"
      ],
      "metadata": {
        "colab": {
          "base_uri": "https://localhost:8080/"
        },
        "id": "0tHh_IHGerkj",
        "outputId": "d8dfbafc-2915-49f1-d1f9-2f950348e317"
      },
      "execution_count": 22,
      "outputs": [
        {
          "output_type": "stream",
          "name": "stdout",
          "text": [
            "Cross-Validation Scores: [0.9  0.92 0.95 0.93 0.97]\n",
            "Average Accuracy: 0.9339999999999999\n"
          ]
        }
      ]
    },
    {
      "cell_type": "markdown",
      "source": [
        "Q43. Train a Random Forest Classifier and plot the Precision-Recall curve."
      ],
      "metadata": {
        "id": "CBCcEeWfeuGw"
      }
    },
    {
      "cell_type": "code",
      "source": [
        "import matplotlib.pyplot as plt\n",
        "from sklearn.ensemble import RandomForestClassifier\n",
        "from sklearn.datasets import make_classification\n",
        "from sklearn.model_selection import train_test_split\n",
        "from sklearn.metrics import precision_recall_curve\n",
        "\n",
        "# Generate dataset\n",
        "X, y = make_classification(n_samples=500, n_features=6, random_state=42)\n",
        "\n",
        "# Split dataset\n",
        "X_train, X_test, y_train, y_test = train_test_split(X, y, test_size=0.2, random_state=42)\n",
        "\n",
        "# Train Random Forest Classifier\n",
        "model = RandomForestClassifier(n_estimators=20, random_state=42)\n",
        "model.fit(X_train, y_train)\n",
        "\n",
        "# Predict probabilities\n",
        "y_prob = model.predict_proba(X_test)[:, 1]\n",
        "\n",
        "# Compute Precision-Recall curve\n",
        "precision, recall, _ = precision_recall_curve(y_test, y_prob)\n",
        "\n",
        "# Plot Precision-Recall curve\n",
        "plt.plot(recall, precision, marker='.')\n",
        "plt.xlabel(\"Recall\")\n",
        "plt.ylabel(\"Precision\")\n",
        "plt.title(\"Precision-Recall Curve - Random Forest\")\n",
        "plt.show()\n"
      ],
      "metadata": {
        "colab": {
          "base_uri": "https://localhost:8080/",
          "height": 472
        },
        "id": "ciIXlh6pewOz",
        "outputId": "8aa1ee85-ef2c-46c5-9e40-edaf0d9b7a01"
      },
      "execution_count": 23,
      "outputs": [
        {
          "output_type": "display_data",
          "data": {
            "text/plain": [
              "<Figure size 640x480 with 1 Axes>"
            ],
            "image/png": "[encoded data removed]"
          },
          "metadata": {}
        }
      ]
    },
    {
      "cell_type": "markdown",
      "source": [
        "Q44. Train a Stacking Classifier with Random Forest and Logistic Regression and compare accuracy."
      ],
      "metadata": {
        "id": "aL9SbB9leywt"
      }
    },
    {
      "cell_type": "code",
      "source": [
        "from sklearn.ensemble import StackingClassifier\n",
        "from sklearn.linear_model import LogisticRegression\n",
        "from sklearn.ensemble import RandomForestClassifier\n",
        "from sklearn.datasets import make_classification\n",
        "from sklearn.model_selection import train_test_split\n",
        "from sklearn.metrics import accuracy_score\n",
        "\n",
        "# Generate dataset\n",
        "X, y = make_classification(n_samples=500, n_features=6, random_state=42)\n",
        "\n",
        "# Split dataset\n",
        "X_train, X_test, y_train, y_test = train_test_split(X, y, test_size=0.2, random_state=42)\n",
        "\n",
        "# Define base models\n",
        "base_models = [\n",
        "    ('rf', RandomForestClassifier(n_estimators=10, random_state=42))\n",
        "]\n",
        "\n",
        "# Define stacking model\n",
        "stacking_model = StackingClassifier(estimators=base_models, final_estimator=LogisticRegression())\n",
        "stacking_model.fit(X_train, y_train)\n",
        "\n",
        "# Predict and evaluate\n",
        "y_pred = stacking_model.predict(X_test)\n",
        "print(\"Stacking Classifier Accuracy:\", accuracy_score(y_test, y_pred))\n"
      ],
      "metadata": {
        "colab": {
          "base_uri": "https://localhost:8080/"
        },
        "id": "z45PGLO2e0zc",
        "outputId": "8101cfcc-e399-4061-e6a4-399a6291f0f3"
      },
      "execution_count": 24,
      "outputs": [
        {
          "output_type": "stream",
          "name": "stdout",
          "text": [
            "Stacking Classifier Accuracy: 0.91\n"
          ]
        }
      ]
    },
    {
      "cell_type": "markdown",
      "source": [
        "Q45. Train a Bagging Regressor with different levels of bootstrap samples and compare performance."
      ],
      "metadata": {
        "id": "Z-2-3b5Pe3sK"
      }
    },
    {
      "cell_type": "code",
      "source": [
        "from sklearn.ensemble import BaggingRegressor\n",
        "from sklearn.tree import DecisionTreeRegressor\n",
        "from sklearn.datasets import make_regression\n",
        "from sklearn.model_selection import train_test_split\n",
        "from sklearn.metrics import mean_squared_error\n",
        "\n",
        "# Generate dataset\n",
        "X, y = make_regression(n_samples=500, n_features=5, noise=0.3, random_state=42)\n",
        "\n",
        "# Split dataset\n",
        "X_train, X_test, y_train, y_test = train_test_split(X, y, test_size=0.2, random_state=42)\n",
        "\n",
        "# Train and compare different bootstrap sample sizes\n",
        "for max_samples in [0.5, 0.7, 1.0]:\n",
        "    model = BaggingRegressor(estimator=DecisionTreeRegressor(), n_estimators=10, max_samples=max_samples, random_state=42)\n",
        "    model.fit(X_train, y_train)\n",
        "    y_pred = model.predict(X_test)\n",
        "    print(f\"MSE with max_samples={max_samples}:\", mean_squared_error(y_test, y_pred))\n",
        "\n",
        "\n"
      ],
      "metadata": {
        "colab": {
          "base_uri": "https://localhost:8080/"
        },
        "id": "w2pweXv7e5fN",
        "outputId": "0362d574-99d8-4170-aea1-2766399a641e"
      },
      "execution_count": 25,
      "outputs": [
        {
          "output_type": "stream",
          "name": "stdout",
          "text": [
            "MSE with max_samples=0.5: 1375.6392984171969\n",
            "MSE with max_samples=0.7: 1082.6526190159868\n",
            "MSE with max_samples=1.0: 1117.5481243394092\n"
          ]
        }
      ]
    }
  ]
}